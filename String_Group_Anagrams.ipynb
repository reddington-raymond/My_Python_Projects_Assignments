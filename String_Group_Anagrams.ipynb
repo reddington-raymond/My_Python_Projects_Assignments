{
  "nbformat": 4,
  "nbformat_minor": 0,
  "metadata": {
    "colab": {
      "name": "String_Group_Anagrams.ipynb",
      "provenance": [],
      "collapsed_sections": []
    },
    "kernelspec": {
      "name": "python3",
      "display_name": "Python 3"
    },
    "language_info": {
      "name": "python"
    }
  },
  "cells": [
    {
      "cell_type": "code",
      "metadata": {
        "colab": {
          "base_uri": "https://localhost:8080/"
        },
        "id": "AOqQgrOievEV",
        "outputId": "e0bfb640-839f-459e-a229-4438e104a7c6"
      },
      "source": [
        "group= [\"eat\", \"tea\", \"tan\", \"ate\", \"nat\", \"bat\"]\n",
        "g={}\n",
        "for i in group:\n",
        "  s=\"\".join(sorted(i))\n",
        "  if s not in g.keys():\n",
        "    g[s]=[]\n",
        "  g[s].append(i)\n",
        "anagram_list=list(g.values())\n",
        "print(anagram_list)"
      ],
      "execution_count": 4,
      "outputs": [
        {
          "output_type": "stream",
          "text": [
            "[['eat', 'tea', 'ate'], ['tan', 'nat'], ['bat']]\n"
          ],
          "name": "stdout"
        }
      ]
    }
  ]
}