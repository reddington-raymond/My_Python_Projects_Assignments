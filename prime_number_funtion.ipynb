{
  "nbformat": 4,
  "nbformat_minor": 0,
  "metadata": {
    "colab": {
      "name": "prime_number_funtion.ipynb",
      "provenance": [],
      "collapsed_sections": []
    },
    "kernelspec": {
      "name": "python3",
      "display_name": "Python 3"
    },
    "language_info": {
      "name": "python"
    }
  },
  "cells": [
    {
      "cell_type": "code",
      "metadata": {
        "colab": {
          "base_uri": "https://localhost:8080/"
        },
        "id": "k4kQUwXbWe-l",
        "outputId": "4088581b-b91f-4a22-a01c-805c4b04f4ad"
      },
      "source": [
        "def prime(n):\n",
        "  prime_list=[2]\n",
        "  for i in range(3,n):\n",
        "    x=2\n",
        "    while x<i:\n",
        "      if i%x==0:\n",
        "        break\n",
        "      else:\n",
        "        x+=1\n",
        "    else:\n",
        "      prime_list.append(i)\n",
        "  return prime_list \n",
        "print(prime(100))"
      ],
      "execution_count": 1,
      "outputs": [
        {
          "output_type": "stream",
          "text": [
            "[2, 3, 5, 7, 11, 13, 17, 19, 23, 29, 31, 37, 41, 43, 47, 53, 59, 61, 67, 71, 73, 79, 83, 89, 97]\n"
          ],
          "name": "stdout"
        }
      ]
    }
  ]
}