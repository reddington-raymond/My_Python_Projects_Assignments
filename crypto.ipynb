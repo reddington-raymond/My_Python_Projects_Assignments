{
  "nbformat": 4,
  "nbformat_minor": 0,
  "metadata": {
    "colab": {
      "name": "crypto.ipynb",
      "provenance": [],
      "collapsed_sections": []
    },
    "kernelspec": {
      "name": "python3",
      "display_name": "Python 3"
    },
    "language_info": {
      "name": "python"
    }
  },
  "cells": [
    {
      "cell_type": "code",
      "execution_count": null,
      "metadata": {
        "id": "VjSGgkRhKHap"
      },
      "outputs": [],
      "source": [
        "text=input('Enter a text to be crypted: ')\n",
        "caesar=int(input('Enter the ceasar number to cypher the text: '))\n",
        "import string\n",
        "alphabet_lower = list(string.ascii_lowercase)\n",
        "alphabet_upper = list(string.ascii_uppercase)\n",
        "crypted_text=''\n",
        "for i in text:\n",
        "  if i in alphabet_lower:\n",
        "    if alphabet_lower.index(i)+caesar>25:\n",
        "      crypted_text+= alphabet_lower[(alphabet_lower.index(i)+caesar-25)]\n",
        "    else:\n",
        "      crypted_text+= alphabet_lower[(alphabet_lower.index(i)+caesar)]\n",
        "  elif i in alphabet_upper:\n",
        "    if alphabet_upper.index(i)+caesar>25:\n",
        "      crypted_text+= alphabet_upper[(alphabet_upper.index(i)+caesar-25)]\n",
        "    else:\n",
        "      crypted_text+= alphabet_upper[(alphabet_upper.index(i)+caesar)]\n",
        "  else:\n",
        "    crypted_text+= i\n",
        "print(crypted_text)"
      ]
    }
  ]
}