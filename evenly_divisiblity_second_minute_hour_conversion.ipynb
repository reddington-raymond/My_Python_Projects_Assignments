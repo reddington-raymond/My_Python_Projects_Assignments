{
  "nbformat": 4,
  "nbformat_minor": 0,
  "metadata": {
    "colab": {
      "name": "evenly_divisiblity_second_minute_hour_conversion.ipynb",
      "provenance": [],
      "collapsed_sections": []
    },
    "kernelspec": {
      "name": "python3",
      "display_name": "Python 3"
    },
    "language_info": {
      "name": "python"
    }
  },
  "cells": [
    {
      "cell_type": "code",
      "metadata": {
        "colab": {
          "base_uri": "https://localhost:8080/"
        },
        "id": "TSVQmX3MgUg9",
        "outputId": "662132f4-033a-447b-cdd7-b4a36d3b0211"
      },
      "source": [
        "xyz=[i for i in range(100, 100001) if i%5==0 and i%4==0]\n",
        "abc=[i for i in range(100, 100001) if i%2==0 and i%5==0]\n",
        "cross_check=len(set(xyz).intersection(set(abc)))\n",
        "print(cross_check)"
      ],
      "execution_count": null,
      "outputs": [
        {
          "output_type": "execute_result",
          "data": {
            "text/plain": [
              "4996"
            ]
          },
          "metadata": {
            "tags": []
          },
          "execution_count": 4
        }
      ]
    },
    {
      "cell_type": "code",
      "metadata": {
        "colab": {
          "base_uri": "https://localhost:8080/"
        },
        "id": "1sQHB9NXxewD",
        "outputId": "1b882d19-d99f-4348-e609-0d22c8d1f83b"
      },
      "source": [
        "sec=int(input('Enter the total seconds:  '))\n",
        "minute=sec//60\n",
        "second=sec%60\n",
        "hour=minute//60\n",
        "minute=minute%60\n",
        "print(f'{sec} seconds is {hour} hours, {minute} minutes and {second} seconds.')\n"
      ],
      "execution_count": 11,
      "outputs": [
        {
          "output_type": "stream",
          "text": [
            "Enter the total seconds:  348765\n",
            "348765 seconds is 96 hours, 52 minutes and 45 seconds.\n"
          ],
          "name": "stdout"
        }
      ]
    },
    {
      "cell_type": "markdown",
      "metadata": {
        "id": "5S967kgHgYeN"
      },
      "source": [
        "Aynı zamanda hem 2'ye hem 4'e hem de 5'e bölünebilen sayılara xyz sayısı diyelim. Hem 2'ye hem de 5'e bölünebilen sayılar ise abc sayısı olsun. 100 ile 100.000 arasındaki xyz sayılarından kaç tanesi aynı zamanda abc sayısıdır?"
      ]
    }
  ]
}