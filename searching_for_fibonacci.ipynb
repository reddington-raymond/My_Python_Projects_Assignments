{
  "nbformat": 4,
  "nbformat_minor": 0,
  "metadata": {
    "colab": {
      "name": "searching_for_fibonacci.ipynb",
      "provenance": [],
      "collapsed_sections": []
    },
    "kernelspec": {
      "name": "python3",
      "display_name": "Python 3"
    },
    "language_info": {
      "name": "python"
    }
  },
  "cells": [
    {
      "cell_type": "code",
      "metadata": {
        "colab": {
          "base_uri": "https://localhost:8080/"
        },
        "id": "pP6WkaH96JnN",
        "outputId": "3d960305-77ea-4a04-fe75-69ab5443e28b"
      },
      "source": [
        "fibonacci=[]\n",
        "x,y=0,1\n",
        "while x+y<50:\n",
        "  x,y=y,x+y\n",
        "  fibonacci.append(y)\n",
        "print(fibonacci)"
      ],
      "execution_count": 2,
      "outputs": [
        {
          "output_type": "stream",
          "text": [
            "[1, 2, 3, 5, 8, 13, 21, 34]\n"
          ],
          "name": "stdout"
        }
      ]
    }
  ]
}