{
  "nbformat": 4,
  "nbformat_minor": 0,
  "metadata": {
    "colab": {
      "name": "Profit_Calculatır.ipynb",
      "provenance": [],
      "collapsed_sections": []
    },
    "kernelspec": {
      "name": "python3",
      "display_name": "Python 3"
    },
    "language_info": {
      "name": "python"
    }
  },
  "cells": [
    {
      "cell_type": "code",
      "execution_count": null,
      "metadata": {
        "id": "e5NYcaOc8ElZ"
      },
      "outputs": [],
      "source": [
        ""
      ]
    },
    {
      "cell_type": "code",
      "source": [
        "capital=1000 # US Dollars\n",
        "interest_rate=0.07 # For example if the interest rate is %7 per day then accept this value as 0.07\n",
        "invest_period=7 \n",
        "final_capital=capital*(1+interest_rate)**7\n",
        "print(final_capital)"
      ],
      "metadata": {
        "colab": {
          "base_uri": "https://localhost:8080/"
        },
        "id": "ENGuZb_m8St5",
        "outputId": "a595b168-6684-44a5-9ac7-97dfea74415b"
      },
      "execution_count": 1,
      "outputs": [
        {
          "output_type": "stream",
          "name": "stdout",
          "text": [
            "1605.7814764784307\n"
          ]
        }
      ]
    }
  ]
}