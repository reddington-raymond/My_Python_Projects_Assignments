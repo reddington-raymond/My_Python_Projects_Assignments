{
  "nbformat": 4,
  "nbformat_minor": 0,
  "metadata": {
    "colab": {
      "name": "Assignment-009/2 (Comfortable Words).ipynb",
      "provenance": [],
      "collapsed_sections": []
    },
    "kernelspec": {
      "name": "python3",
      "display_name": "Python 3"
    },
    "language_info": {
      "name": "python"
    }
  },
  "cells": [
    {
      "cell_type": "code",
      "metadata": {
        "colab": {
          "base_uri": "https://localhost:8080/"
        },
        "id": "uLyK-aq9-wEh",
        "outputId": "60948cc6-8604-439a-c9c7-b2690ae9be7b"
      },
      "source": [
        "left_hand = set('qwertasdfgzxcvb')\n",
        "right_hand = set('yuiophjklnm')\n",
        "word = set(input('Enter a word to be checked: '))\n",
        "left_check = len(word.difference(left_hand)) \n",
        "right_check = len(word.difference(right_hand))\n",
        "print((left_check==0 and 'Uses only left-hand fingers!') or \\\n",
        "      (right_check==0 and 'Uses only right-hand fingers!') or ('Uses both hand fingers!'))"
      ],
      "execution_count": null,
      "outputs": [
        {
          "output_type": "stream",
          "text": [
            "Enter a word to be checked: polly\n",
            "Uses only right-hand fingers!\n"
          ],
          "name": "stdout"
        }
      ]
    },
    {
      "cell_type": "code",
      "metadata": {
        "id": "c4rZ1z5ZGT5-"
      },
      "source": [
        ""
      ],
      "execution_count": null,
      "outputs": []
    }
  ]
}