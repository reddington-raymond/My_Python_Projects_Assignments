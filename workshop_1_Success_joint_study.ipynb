{
  "nbformat": 4,
  "nbformat_minor": 0,
  "metadata": {
    "colab": {
      "name": "workshop_Success_joint_study.ipynb",
      "provenance": [],
      "collapsed_sections": []
    },
    "kernelspec": {
      "display_name": "Python 3",
      "name": "python3"
    },
    "language_info": {
      "name": "python"
    }
  },
  "cells": [
    {
      "cell_type": "code",
      "metadata": {
        "colab": {
          "base_uri": "https://localhost:8080/"
        },
        "id": "zwfwxwlr0iya",
        "outputId": "5620a1c1-6fa6-48ac-c8a3-18a4aef55636"
      },
      "source": [
        "a=int(input(\"a:\"))\n",
        "b=int(input(\"b:\"))\n",
        "c=int(input(\"c:\"))  # Once int koymadan hepsini yaz ve o şekilde olmadığını göster\n",
        "output = a * b * c\n",
        "print(f\"{a}*{b}*{c} = {output}\")\n",
        "print(\"{}*{}*{} = {}\".format(a, b, c, output))"
      ],
      "execution_count": null,
      "outputs": [
        {
          "output_type": "stream",
          "text": [
            "a:3\n",
            "b:2\n",
            "c:5\n",
            "3*2*5 = 30\n"
          ],
          "name": "stdout"
        }
      ]
    },
    {
      "cell_type": "code",
      "metadata": {
        "colab": {
          "base_uri": "https://localhost:8080/",
          "height": 248
        },
        "id": "PfclyhpIM700",
        "outputId": "e2d8e0df-2fa2-47d8-ce93-ea71884319a9"
      },
      "source": [
        "a=int(input(\"a:\"))\n",
        "b=int(input(\"b:\"))\n",
        "c=int(input(\"c:\"))  # Once int koymadan hepsini yaz ve o şekilde olmadığını göster\n",
        "output = a * b * c\n",
        "print(\"{}*{}*{} = {}\".format(a, b, c, output))\n",
        "print(f\"{a}*{b}*{c} = {output}\")"
      ],
      "execution_count": null,
      "outputs": [
        {
          "output_type": "stream",
          "text": [
            "a:5.2\n"
          ],
          "name": "stdout"
        },
        {
          "output_type": "error",
          "ename": "ValueError",
          "evalue": "ignored",
          "traceback": [
            "\u001b[0;31m---------------------------------------------------------------------------\u001b[0m",
            "\u001b[0;31mValueError\u001b[0m                                Traceback (most recent call last)",
            "\u001b[0;32m<ipython-input-11-248e568c0add>\u001b[0m in \u001b[0;36m<module>\u001b[0;34m()\u001b[0m\n\u001b[0;32m----> 1\u001b[0;31m \u001b[0ma\u001b[0m\u001b[0;34m=\u001b[0m\u001b[0mint\u001b[0m\u001b[0;34m(\u001b[0m\u001b[0minput\u001b[0m\u001b[0;34m(\u001b[0m\u001b[0;34m\"a:\"\u001b[0m\u001b[0;34m)\u001b[0m\u001b[0;34m)\u001b[0m\u001b[0;34m\u001b[0m\u001b[0;34m\u001b[0m\u001b[0m\n\u001b[0m\u001b[1;32m      2\u001b[0m \u001b[0mb\u001b[0m\u001b[0;34m=\u001b[0m\u001b[0mint\u001b[0m\u001b[0;34m(\u001b[0m\u001b[0minput\u001b[0m\u001b[0;34m(\u001b[0m\u001b[0;34m\"b:\"\u001b[0m\u001b[0;34m)\u001b[0m\u001b[0;34m)\u001b[0m\u001b[0;34m\u001b[0m\u001b[0;34m\u001b[0m\u001b[0m\n\u001b[1;32m      3\u001b[0m \u001b[0mc\u001b[0m\u001b[0;34m=\u001b[0m\u001b[0mint\u001b[0m\u001b[0;34m(\u001b[0m\u001b[0minput\u001b[0m\u001b[0;34m(\u001b[0m\u001b[0;34m\"c:\"\u001b[0m\u001b[0;34m)\u001b[0m\u001b[0;34m)\u001b[0m  \u001b[0;31m# Once int koymadan hepsini yaz ve o şekilde olmadığını göster\u001b[0m\u001b[0;34m\u001b[0m\u001b[0;34m\u001b[0m\u001b[0m\n\u001b[1;32m      4\u001b[0m \u001b[0moutput\u001b[0m \u001b[0;34m=\u001b[0m \u001b[0ma\u001b[0m \u001b[0;34m*\u001b[0m \u001b[0mb\u001b[0m \u001b[0;34m*\u001b[0m \u001b[0mc\u001b[0m\u001b[0;34m\u001b[0m\u001b[0;34m\u001b[0m\u001b[0m\n\u001b[1;32m      5\u001b[0m \u001b[0mprint\u001b[0m\u001b[0;34m(\u001b[0m\u001b[0;34m\"{}*{}*{} = {}\"\u001b[0m\u001b[0;34m.\u001b[0m\u001b[0mformat\u001b[0m\u001b[0;34m(\u001b[0m\u001b[0ma\u001b[0m\u001b[0;34m,\u001b[0m \u001b[0mb\u001b[0m\u001b[0;34m,\u001b[0m \u001b[0mc\u001b[0m\u001b[0;34m,\u001b[0m \u001b[0moutput\u001b[0m\u001b[0;34m)\u001b[0m\u001b[0;34m)\u001b[0m\u001b[0;34m\u001b[0m\u001b[0;34m\u001b[0m\u001b[0m\n",
            "\u001b[0;31mValueError\u001b[0m: invalid literal for int() with base 10: '5.2'"
          ]
        }
      ]
    },
    {
      "cell_type": "code",
      "metadata": {
        "colab": {
          "base_uri": "https://localhost:8080/"
        },
        "id": "QBzoVS0cLFNl",
        "outputId": "2d92d1cb-6160-40a5-e78f-1abf6ffecda0"
      },
      "source": [
        "height=float(input(\"Enter your height (example: 1.85):\"))\n",
        "weight=int(input(\"Enter your weight (example: 75):\"))\n",
        "\n",
        "print(\"Body mass index:\",weight / (height ** 2))"
      ],
      "execution_count": null,
      "outputs": [
        {
          "output_type": "stream",
          "text": [
            "Enter your height (example: 1.85):1.80\n",
            "Enter your weight (example: 75):85\n",
            "Body mass index: 26.234567901234566\n"
          ],
          "name": "stdout"
        }
      ]
    },
    {
      "cell_type": "code",
      "metadata": {
        "colab": {
          "base_uri": "https://localhost:8080/"
        },
        "id": "lFQxTI0yLbpD",
        "outputId": "23d9440d-6e14-4035-8f24-fe537b147d69"
      },
      "source": [
        "totalMoney = 200\n",
        "materialPrice = 11\n",
        "piece = 200 // 11\n",
        "remainingMoney = totalMoney % piece\n",
        "print(\"With your ${}, {} pieces of material you can get for ${} each.  The remaining money is ${}\".format(totalMoney, piece, materialPrice, remainingMoney))"
      ],
      "execution_count": null,
      "outputs": [
        {
          "output_type": "stream",
          "text": [
            "With your $200, 18 pieces of material you can get for $11 each.  The remaining money is $2\n"
          ],
          "name": "stdout"
        }
      ]
    },
    {
      "cell_type": "code",
      "metadata": {
        "colab": {
          "base_uri": "https://localhost:8080/"
        },
        "id": "z20KcOtcLSEW",
        "outputId": "3f21241a-6907-4e58-9ce8-64bdbddc97d5"
      },
      "source": [
        "a = 2\n",
        "b = 5\n",
        "\n",
        "print(\"Variables Before Replacing a= {} b= {}\".format(a, b))\n",
        "\n",
        "a, b = b, a\n",
        "\n",
        "print(\"Variables After Replacing a= {} b= {}\".format(a, b))"
      ],
      "execution_count": null,
      "outputs": [
        {
          "output_type": "stream",
          "text": [
            "Variables Before Replacing a= 2 b= 5\n",
            "Variables After Replacing a= 5 b= 2\n"
          ],
          "name": "stdout"
        }
      ]
    },
    {
      "cell_type": "code",
      "metadata": {
        "colab": {
          "base_uri": "https://localhost:8080/"
        },
        "id": "v85bXIkDLXLb",
        "outputId": "243c542a-b360-4fcc-c19a-915e9381bb2b"
      },
      "source": [
        "x, y = 4, 3\n",
        "result = x * x - y * y\n",
        "print(\"({} ^ 2 - {} ^ 2) = {}\".format(x, y, result))"
      ],
      "execution_count": null,
      "outputs": [
        {
          "output_type": "stream",
          "text": [
            "(4 ^ 2 - 3 ^ 2) = 7\n"
          ],
          "name": "stdout"
        }
      ]
    },
    {
      "cell_type": "code",
      "metadata": {
        "colab": {
          "base_uri": "https://localhost:8080/"
        },
        "id": "7BKRKY2cLjLS",
        "outputId": "daefc3ff-7881-4ef9-eca4-200a8793d171"
      },
      "source": [
        "word = input(\"Word: \")\n",
        "seperator = input(\"Seperator: \")\n",
        "repetitions = int(input(\"repetitions: \"))\n",
        "a = (word + seperator) * (repetitions -1) + word # henry/ * 2 = henry/henry/henry\n",
        "print(a)\n",
        "# print(*list([word] * repetitions), sep=seperator)"
      ],
      "execution_count": null,
      "outputs": [
        {
          "output_type": "stream",
          "text": [
            "Word: didem\n",
            "Seperator: ,\n",
            "repetitions: 3\n",
            "didem,didem,didem\n"
          ],
          "name": "stdout"
        }
      ]
    },
    {
      "cell_type": "code",
      "metadata": {
        "colab": {
          "base_uri": "https://localhost:8080/"
        },
        "id": "68GhspgePiyU",
        "outputId": "d4945dd7-807a-485e-e8bd-37d06bf19476"
      },
      "source": [
        "word=input(\"Word:\")\n",
        "n=int(input(\"Repetitions of the last n character:\"))\n",
        "\n",
        "a=len(word) # 9\n",
        "b=word[a-n:] # wurd[6:]\n",
        "print(b*n) # way*3"
      ],
      "execution_count": null,
      "outputs": [
        {
          "output_type": "stream",
          "text": [
            "Word:ozi\n",
            "Repetitions of the last n character:3\n",
            "ozioziozi\n"
          ],
          "name": "stdout"
        }
      ]
    },
    {
      "cell_type": "code",
      "metadata": {
        "colab": {
          "base_uri": "https://localhost:8080/"
        },
        "id": "X-dphR9OP0gu",
        "outputId": "a2a5706b-aa0f-4ae3-c75c-5f1c7fc7d71c"
      },
      "source": [
        "num = int(input(\"Birsayı girin: \"))\n",
        "\n",
        "print(num % 3 == 0) # False = 0 True = 1\n",
        "print(num % 5 == 0)\n",
        "print('Clarus' * (num % 3 == 0) + 'way' * (num % 5 == 0) or num)"
      ],
      "execution_count": null,
      "outputs": [
        {
          "output_type": "stream",
          "text": [
            "Birsayı girin: 5\n",
            "False\n",
            "True\n",
            "way\n"
          ],
          "name": "stdout"
        }
      ]
    },
    {
      "cell_type": "code",
      "metadata": {
        "colab": {
          "base_uri": "https://localhost:8080/"
        },
        "id": "koCvJmTnP9cR",
        "outputId": "8cc865a2-6344-4e2e-b1eb-b679ca6bb9de"
      },
      "source": [
        "num = int(input(\"Birsayı girin: \"))\n",
        "\n",
        "print(num % 3 == 0) # False = 0 True = 1\n",
        "print(num % 5 == 0)\n",
        "print('Clarus' * (num % 3 == 0) + 'way' * (num % 5 == 0) or num)"
      ],
      "execution_count": null,
      "outputs": [
        {
          "output_type": "stream",
          "text": [
            "Birsayı girin: 15\n",
            "True\n",
            "True\n",
            "Clarusway\n"
          ],
          "name": "stdout"
        }
      ]
    },
    {
      "cell_type": "code",
      "metadata": {
        "colab": {
          "base_uri": "https://localhost:8080/"
        },
        "id": "mZoJRR_AQOGD",
        "outputId": "113ae025-6bd9-4b85-c107-d7bbb3d90929"
      },
      "source": [
        "letters = \"abclarusxyz\" \n",
        "print(letters[2:8])"
      ],
      "execution_count": null,
      "outputs": [
        {
          "output_type": "stream",
          "text": [
            "clarus\n"
          ],
          "name": "stdout"
        }
      ]
    },
    {
      "cell_type": "code",
      "metadata": {
        "colab": {
          "base_uri": "https://localhost:8080/"
        },
        "id": "PIMhl1igQRah",
        "outputId": "a9122a9d-ffee-4f08-d4c2-c65a05be6283"
      },
      "source": [
        "letters = \"abclarusxyz\" \n",
        "print(letters[2::-1]) "
      ],
      "execution_count": null,
      "outputs": [
        {
          "output_type": "stream",
          "text": [
            "cba\n"
          ],
          "name": "stdout"
        }
      ]
    },
    {
      "cell_type": "code",
      "metadata": {
        "colab": {
          "base_uri": "https://localhost:8080/"
        },
        "id": "VeoYKSjbQaYi",
        "outputId": "a51339af-0f3d-44ea-aa7e-4f2121b478a8"
      },
      "source": [
        "letters = \"abclarusxyz\"\n",
        "print(letters[:-9:-1])"
      ],
      "execution_count": null,
      "outputs": [
        {
          "output_type": "stream",
          "text": [
            "zyxsural\n"
          ],
          "name": "stdout"
        }
      ]
    },
    {
      "cell_type": "code",
      "metadata": {
        "colab": {
          "base_uri": "https://localhost:8080/"
        },
        "id": "4rqq43PV2Z0C",
        "outputId": "dcaf355e-78c6-4e5b-b90f-8843a9428b06"
      },
      "source": [
        "height = input('Enter your height in centimeters: ')\n",
        "height = int(height)/100\n",
        "weight = input('Enter your weight in kilograms: ')\n",
        "weight = int(weight)\n",
        "body_mass_index = weight/height**2\n",
        "print('Your body index is: {}'.format(body_mass_index))"
      ],
      "execution_count": null,
      "outputs": [
        {
          "output_type": "stream",
          "text": [
            "Enter your height in centimeters: 180\n",
            "Enter your weight in kilograms: 85\n",
            "Your body index is: 26.234567901234566\n"
          ],
          "name": "stdout"
        }
      ]
    },
    {
      "cell_type": "code",
      "metadata": {
        "colab": {
          "base_uri": "https://localhost:8080/"
        },
        "id": "tCzC5MXP2cIv",
        "outputId": "4aa92569-b13f-4186-d54e-151eac936a6c"
      },
      "source": [
        "height=float(input(\"Enter your height (example: 1.85):\"))\n",
        "weight=int(input(\"Enter your weight (example: 75):\"))\n",
        "\n",
        "print(\"Body mass index:\",weight / (height ** 2))"
      ],
      "execution_count": null,
      "outputs": [
        {
          "output_type": "stream",
          "text": [
            "Enter your height (example: 1.85):1.80\n",
            "Enter your weight (example: 75):85\n",
            "Body mass index: 26.234567901234566\n"
          ],
          "name": "stdout"
        }
      ]
    },
    {
      "cell_type": "code",
      "metadata": {
        "colab": {
          "base_uri": "https://localhost:8080/"
        },
        "id": "9PAyCjRL2dwo",
        "outputId": "4a385cf1-5cd5-4f7d-f9dc-b9171619a50f"
      },
      "source": [
        "print(\"how many:\", 200 // 11, \"leftover:\", 200 % 11)"
      ],
      "execution_count": null,
      "outputs": [
        {
          "output_type": "stream",
          "text": [
            "how many: 18 leftover: 2\n"
          ],
          "name": "stdout"
        }
      ]
    },
    {
      "cell_type": "code",
      "metadata": {
        "id": "w6ditg302g90"
      },
      "source": [
        "totalMoney = 200\n",
        "materialPrice = 11\n",
        "piece = 200 // 11\n",
        "remainingMoney = totalMoney % piece\n",
        "print(\"With your ${}, {} pieces of material you can get for ${} each.  The remaining money is ${}\".format(totalMoney, piece, materialPrice, remainingMoney))"
      ],
      "execution_count": null,
      "outputs": []
    },
    {
      "cell_type": "code",
      "metadata": {
        "colab": {
          "base_uri": "https://localhost:8080/"
        },
        "id": "ovqyN2Uf2haC",
        "outputId": "020fb3da-4372-494c-8136-62e6347322c8"
      },
      "source": [
        "var1= 5\n",
        "var2= 9\n",
        "var1, var2 = 9 , 5\n",
        "print (var1, \",\", var2)"
      ],
      "execution_count": null,
      "outputs": [
        {
          "output_type": "stream",
          "text": [
            "9 , 5\n"
          ],
          "name": "stdout"
        }
      ]
    },
    {
      "cell_type": "code",
      "metadata": {
        "colab": {
          "base_uri": "https://localhost:8080/"
        },
        "id": "mAHiVpi0DegK",
        "outputId": "ab1be744-dc74-4dde-e090-42ceb14a43e7"
      },
      "source": [
        "a = 2\n",
        "b = 5\n",
        "\n",
        "print(\"Variables Before Replacing a= {} b= {}\".format(a, b))\n",
        "\n",
        "a, b = b, a\n",
        "\n",
        "print(\"Variables After Replacing a= {} b= {}\".format(a, b))"
      ],
      "execution_count": null,
      "outputs": [
        {
          "output_type": "stream",
          "text": [
            "Variables Before Replacing a= 2 b= 5\n",
            "Variables After Replacing a= 5 b= 2\n"
          ],
          "name": "stdout"
        }
      ]
    },
    {
      "cell_type": "code",
      "metadata": {
        "colab": {
          "base_uri": "https://localhost:8080/"
        },
        "id": "AyOqf9RXDwmb",
        "outputId": "77143576-bc46-418d-9ba6-891b3d6c61f7"
      },
      "source": [
        "x = float(input(\"x degerini giriniz = \"))\n",
        "y = float(input(\"y degerini giriniz = \"))\n",
        "sonuc = (x - y) * (x + y)\n",
        "print (sonuc)"
      ],
      "execution_count": null,
      "outputs": [
        {
          "output_type": "stream",
          "text": [
            "x degerini giriniz = 5\n",
            "y degerini giriniz = 2\n",
            "21.0\n"
          ],
          "name": "stdout"
        }
      ]
    },
    {
      "cell_type": "code",
      "metadata": {
        "colab": {
          "base_uri": "https://localhost:8080/"
        },
        "id": "F2tuo9uw2hmj",
        "outputId": "bbc6d98e-0a09-43ae-86ba-6d62fc3f825d"
      },
      "source": [
        "x, y = 4, 3\n",
        "result = x * x - y * y\n",
        "print(\"({} ^ 2 - {} ^ 2) = {}\".format(x, y, result))"
      ],
      "execution_count": null,
      "outputs": [
        {
          "output_type": "stream",
          "text": [
            "(5.0 ^ 2 - 2.0 ^ 2) = 21.0\n"
          ],
          "name": "stdout"
        }
      ]
    },
    {
      "cell_type": "code",
      "metadata": {
        "colab": {
          "base_uri": "https://localhost:8080/"
        },
        "id": "lDBvjfQ3E48K",
        "outputId": "1d88c721-073d-4278-e2fe-1163137c1eef"
      },
      "source": [
        "word = input('Please enter any word.')\n",
        "repetition = input('How many times you want your word to be repeated?')\n",
        "repetition = int(repetition)\n",
        "seperator = input('Which seperation character you prefer?')\n",
        "print((word+seperator)*repetition + '\\b')"
      ],
      "execution_count": null,
      "outputs": [
        {
          "output_type": "stream",
          "text": [
            "Please enter any word.didem\n",
            "How many times you want your word to be repeated?2\n",
            "Which seperation character you prefer?-\n",
            "didem-didem-\b\n"
          ],
          "name": "stdout"
        }
      ]
    },
    {
      "cell_type": "code",
      "metadata": {
        "colab": {
          "base_uri": "https://localhost:8080/"
        },
        "id": "bKI9M5J8FaNZ",
        "outputId": "daf26071-3190-4c2c-9c6b-6c40cb01a629"
      },
      "source": [
        "word = input(\"Word: \")\n",
        "seperator = input(\"Seperator: \")\n",
        "repetitions = int(input(\"repetitions: \"))\n",
        "a = (word + seperator) * (repetitions -1) + word # henry/ * 2 = henry/henry/henry\n",
        "print(a)\n",
        "# print(*list([word] * repetitions), sep=seperator)"
      ],
      "execution_count": null,
      "outputs": [
        {
          "output_type": "stream",
          "text": [
            "Word: ayşe\n",
            "Seperator: -\n",
            "repetitions: 3\n",
            "ayşe-ayşe-ayşe\n"
          ],
          "name": "stdout"
        }
      ]
    },
    {
      "cell_type": "code",
      "metadata": {
        "colab": {
          "base_uri": "https://localhost:8080/"
        },
        "id": "7S2QtoX9Fs5P",
        "outputId": "7dc3322c-1895-4675-ebca-422746b47252"
      },
      "source": [
        "word = input(\"bir kelime giriniz : \")\n",
        "tekrar = int(input(\"kelime kac kere tekrar edilsin : \"))\n",
        "ayrac = input(\"kelimeler arasi ayirac giriniz : \")\n",
        "print(word * tekrar,  sep = \"-\")"
      ],
      "execution_count": null,
      "outputs": [
        {
          "output_type": "stream",
          "text": [
            "bir kelime giriniz : ali\n",
            "kelime kac kere tekrar edilsin : 3\n",
            "kelimeler arasi ayirac giriniz : -\n",
            "alialiali\n"
          ],
          "name": "stdout"
        }
      ]
    },
    {
      "cell_type": "code",
      "metadata": {
        "colab": {
          "base_uri": "https://localhost:8080/"
        },
        "id": "JQgWrdvqGgDM",
        "outputId": "58800130-4566-41d0-a465-78e48333dd94"
      },
      "source": [
        "word = (input(\"word:\"))\n",
        "n = int(input(\"n:\"))\n",
        "print(word[- n: ] * n)\n",
        "\n"
      ],
      "execution_count": null,
      "outputs": [
        {
          "output_type": "stream",
          "text": [
            "word:clarusway\n",
            "n:3\n",
            "waywayway\n"
          ],
          "name": "stdout"
        }
      ]
    },
    {
      "cell_type": "code",
      "metadata": {
        "colab": {
          "base_uri": "https://localhost:8080/"
        },
        "id": "lrJiMhZ9Gk0D",
        "outputId": "57a74f53-06cd-4a68-c547-4d0a38194613"
      },
      "source": [
        "word=input(\"Word:\")\n",
        "n=int(input(\"Repetitions of the last n character:\"))\n",
        "\n",
        "a=len(word) # 9\n",
        "b=word[a-n:] # wurd[6:]\n",
        "print(b*n) # way*3"
      ],
      "execution_count": null,
      "outputs": [
        {
          "output_type": "stream",
          "text": [
            "Word:clarusway\n",
            "Repetitions of the last n character:3\n",
            "waywayway\n"
          ],
          "name": "stdout"
        }
      ]
    },
    {
      "cell_type": "code",
      "metadata": {
        "colab": {
          "base_uri": "https://localhost:8080/"
        },
        "id": "jy_ubgqzGlsX",
        "outputId": "7a210a92-ba32-4382-8cf7-df569d1a8e66"
      },
      "source": [
        "def number(n):\n",
        "    if n % 15==0:\n",
        "        print (\"Clarusway\")\n",
        "    elif n % 5==0:\n",
        "        print (\"way\")\n",
        "    elif n % 3== 0:\n",
        "        print(\"Clarus\")\n",
        "    else:\n",
        "        print(n)\n",
        "print(number(5))"
      ],
      "execution_count": null,
      "outputs": [
        {
          "output_type": "stream",
          "text": [
            "way\n",
            "None\n"
          ],
          "name": "stdout"
        }
      ]
    },
    {
      "cell_type": "code",
      "metadata": {
        "colab": {
          "base_uri": "https://localhost:8080/"
        },
        "id": "dxvmaFBkHT_q",
        "outputId": "e7256097-dc11-4d2d-e315-2314b3b5339e"
      },
      "source": [
        "number = int(input(\"number:\"))\n",
        "mylist = [number, \"Clarus\", \"way\", \"Clarusway\"]\n",
        "print(mylist [(1 and number % 3  == 0) + 2 * (1 and number % 5 == 0)])"
      ],
      "execution_count": null,
      "outputs": [
        {
          "output_type": "stream",
          "text": [
            "number:15\n",
            "Clarusway\n"
          ],
          "name": "stdout"
        }
      ]
    },
    {
      "cell_type": "code",
      "metadata": {
        "colab": {
          "base_uri": "https://localhost:8080/"
        },
        "id": "e0WUWNJAIFxt",
        "outputId": "2107098f-28c0-4db6-958d-77eb02732fef"
      },
      "source": [
        "num = int(input(\"Birsayı girin: \"))\n",
        "\n",
        "print(num % 3 == 0) # False = 0 True = 1\n",
        "print(num % 5 == 0)\n",
        "print('Clarus' * (num % 3 == 0) + 'way' * (num % 5 == 0) or num)"
      ],
      "execution_count": null,
      "outputs": [
        {
          "output_type": "stream",
          "text": [
            "Birsayı girin: 15\n",
            "True\n",
            "True\n",
            "Clarusway\n"
          ],
          "name": "stdout"
        }
      ]
    },
    {
      "cell_type": "code",
      "metadata": {
        "colab": {
          "base_uri": "https://localhost:8080/"
        },
        "id": "7EyBfTf3IGZO",
        "outputId": "587a6bd2-2aa5-4308-c364-6dff7240e07c"
      },
      "source": [
        "1 and True"
      ],
      "execution_count": null,
      "outputs": [
        {
          "output_type": "execute_result",
          "data": {
            "text/plain": [
              "True"
            ]
          },
          "metadata": {
            "tags": []
          },
          "execution_count": 31
        }
      ]
    },
    {
      "cell_type": "code",
      "metadata": {
        "colab": {
          "base_uri": "https://localhost:8080/"
        },
        "id": "K-mFyOFQIG7E",
        "outputId": "7bb5c5aa-6693-4e8d-92d4-4a66157b6dfd"
      },
      "source": [
        "1 and False"
      ],
      "execution_count": null,
      "outputs": [
        {
          "output_type": "execute_result",
          "data": {
            "text/plain": [
              "False"
            ]
          },
          "metadata": {
            "tags": []
          },
          "execution_count": 32
        }
      ]
    },
    {
      "cell_type": "code",
      "metadata": {
        "colab": {
          "base_uri": "https://localhost:8080/"
        },
        "id": "ttUxMOe7IsUB",
        "outputId": "9efd270c-aa0f-4099-8a60-be083c9e79f3"
      },
      "source": [
        "2 * False"
      ],
      "execution_count": null,
      "outputs": [
        {
          "output_type": "execute_result",
          "data": {
            "text/plain": [
              "0"
            ]
          },
          "metadata": {
            "tags": []
          },
          "execution_count": 33
        }
      ]
    },
    {
      "cell_type": "code",
      "metadata": {
        "colab": {
          "base_uri": "https://localhost:8080/"
        },
        "id": "jj4tFgeEJdrR",
        "outputId": "c7faf153-487c-4533-f4a5-37490dbdb285"
      },
      "source": [
        "letters = \"abclarusxyz\"\n",
        "print(letters[2:8])\n",
        "print(letters[2::-1])\n",
        "print(letters[-1:-9:-1])"
      ],
      "execution_count": null,
      "outputs": [
        {
          "output_type": "stream",
          "text": [
            "clarus\n",
            "cba\n",
            "zyxsural\n"
          ],
          "name": "stdout"
        }
      ]
    },
    {
      "cell_type": "code",
      "metadata": {
        "colab": {
          "base_uri": "https://localhost:8080/"
        },
        "id": "UFBZDW1AJeGd",
        "outputId": "c3ac5387-3d67-4660-802a-93e9c03d7450"
      },
      "source": [
        "letters = \"abclarusxyz\" \n",
        "print(letters[2:8])\n",
        "letters = \"abclarusxyz\" \n",
        "print(letters[2::-1]) \n",
        "letters = \"abclarusxyz\"\n",
        "print(letters[:-9:-1])"
      ],
      "execution_count": null,
      "outputs": [
        {
          "output_type": "stream",
          "text": [
            "clarus\n",
            "cba\n",
            "zyxsural\n"
          ],
          "name": "stdout"
        }
      ]
    },
    {
      "cell_type": "code",
      "metadata": {
        "colab": {
          "base_uri": "https://localhost:8080/"
        },
        "id": "AAs2YHhCKCCJ",
        "outputId": "7d0f0994-5117-42ae-fcb6-870be99dcfad"
      },
      "source": [
        "rand_list = [1,[1, 2, \"Clarus\", [2, \"way\"]], \" is the best\"]\n",
        "print(rand_list[1][2], rand_list[1][3][1], rand_list[2], sep='')"
      ],
      "execution_count": null,
      "outputs": [
        {
          "output_type": "stream",
          "text": [
            "Clarusway is the best\n"
          ],
          "name": "stdout"
        }
      ]
    },
    {
      "cell_type": "code",
      "metadata": {
        "colab": {
          "base_uri": "https://localhost:8080/"
        },
        "id": "CKCIgur-KC4Y",
        "outputId": "66677c03-4c55-4137-f6dc-7956511e3597"
      },
      "source": [
        "rand_list = [1,[1, 2, \"Clarus\", [2, \"way\"]], \" is the best\"]\n",
        "print(rand_list[1][2] + rand_list[1][3][1] + rand_list[2])"
      ],
      "execution_count": null,
      "outputs": [
        {
          "output_type": "stream",
          "text": [
            "Clarusway is the best\n"
          ],
          "name": "stdout"
        }
      ]
    },
    {
      "cell_type": "code",
      "metadata": {
        "colab": {
          "base_uri": "https://localhost:8080/"
        },
        "id": "sQVPC_aEKmo6",
        "outputId": "08a6e99c-5ab6-4dba-9fb4-14bcfaed6d58"
      },
      "source": [
        "num_list = [2, 3, 1, 6, 4, 9, 8, 10]\n",
        "num_list.sort()\n",
        "print (num_list)"
      ],
      "execution_count": null,
      "outputs": [
        {
          "output_type": "stream",
          "text": [
            "[1, 2, 3, 4, 6, 8, 9, 10]\n"
          ],
          "name": "stdout"
        }
      ]
    },
    {
      "cell_type": "code",
      "metadata": {
        "colab": {
          "base_uri": "https://localhost:8080/"
        },
        "id": "FyJHft-nKm8_",
        "outputId": "81fcab4f-9eca-4e36-de90-6f39be411370"
      },
      "source": [
        "num_list = [2, 3, 1, 5, 4, 9, 8, 10]\n",
        "a = sorted(num_list)\n",
        "print(a)\n",
        "list1 = set(range(1, 11))\n",
        "list2 = set(num_list)\n",
        "mis_num = list1.difference(list2)\n",
        "print(mis_num)"
      ],
      "execution_count": null,
      "outputs": [
        {
          "output_type": "stream",
          "text": [
            "[1, 2, 3, 4, 5, 8, 9, 10]\n",
            "{6, 7}\n"
          ],
          "name": "stdout"
        }
      ]
    },
    {
      "cell_type": "code",
      "metadata": {
        "colab": {
          "base_uri": "https://localhost:8080/"
        },
        "id": "AeohRePyKnRt",
        "outputId": "55460f2a-dd90-4133-9198-83bef030225c"
      },
      "source": [
        "num_list = [2, 3, 1, 5, 6, 4, 7, 8, 10]\n",
        "num_list.sort()\n",
        "print('List in order is: ',num_list)\n",
        "toplam = sum(num_list)\n",
        "missing_number = (10*(10+1)/2)-toplam\n",
        "print('Missing number in the list is: ', int(missing_number))"
      ],
      "execution_count": null,
      "outputs": [
        {
          "output_type": "stream",
          "text": [
            "List in order is:  [1, 2, 3, 4, 5, 6, 7, 8, 10]\n",
            "Missing number in the list is:  9\n"
          ],
          "name": "stdout"
        }
      ]
    },
    {
      "cell_type": "code",
      "metadata": {
        "colab": {
          "base_uri": "https://localhost:8080/"
        },
        "id": "PaCyAh42LVyA",
        "outputId": "3021a91e-bd13-4122-a81a-57149b1ba2af"
      },
      "source": [
        "old ={\n",
        "  \"Emma\": 71,\n",
        "  \"Jack\": 45,\n",
        "  \"Amy\": 15,\n",
        "  \"Ben\": 29\n",
        "}   # isimler key, yaşları value.\n",
        "\n",
        "print(max(old, key=old.get))"
      ],
      "execution_count": null,
      "outputs": [
        {
          "output_type": "stream",
          "text": [
            "Emma\n"
          ],
          "name": "stdout"
        }
      ]
    },
    {
      "cell_type": "code",
      "metadata": {
        "colab": {
          "base_uri": "https://localhost:8080/"
        },
        "id": "pTFEBmf2LWIg",
        "outputId": "723151a3-4530-4f3a-e546-5d89b6f24d58"
      },
      "source": [
        "my_dict = {'data1':100,'data2':-54,'data3':247}\n",
        "print(sum(my_dict.values()))"
      ],
      "execution_count": null,
      "outputs": [
        {
          "output_type": "stream",
          "text": [
            "293\n"
          ],
          "name": "stdout"
        }
      ]
    },
    {
      "cell_type": "code",
      "metadata": {
        "colab": {
          "base_uri": "https://localhost:8080/"
        },
        "id": "DcuohD5pLWir",
        "outputId": "6b110983-6d64-4324-d299-6f39e6eba874"
      },
      "source": [
        "nums1 = [1, 1, 3, 4, 4, 5, 6, 7]\n",
        "nums2 = [0, 1, 2, 3, 4, 4, 5, 7, 8]\n",
        "print(\"Original list:\")\n",
        "print(nums1)\n",
        "print(nums2)\n",
        "\n",
        "result = sum(nums1 + nums2) / len(nums1 + nums2)\n",
        "\n",
        "print(\"\\nAverage of two lists:\")\n",
        "print(result)"
      ],
      "execution_count": null,
      "outputs": [
        {
          "output_type": "stream",
          "text": [
            "Original list:\n",
            "[1, 1, 3, 4, 4, 5, 6, 7]\n",
            "[0, 1, 2, 3, 4, 4, 5, 7, 8]\n",
            "\n",
            "Average of two lists:\n",
            "3.823529411764706\n"
          ],
          "name": "stdout"
        }
      ]
    },
    {
      "cell_type": "code",
      "metadata": {
        "id": "DWxrh042LW3h"
      },
      "source": [
        ""
      ],
      "execution_count": null,
      "outputs": []
    }
  ]
}