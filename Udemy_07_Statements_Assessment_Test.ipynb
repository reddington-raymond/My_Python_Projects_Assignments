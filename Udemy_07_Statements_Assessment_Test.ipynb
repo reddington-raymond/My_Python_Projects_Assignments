{
  "nbformat": 4,
  "nbformat_minor": 0,
  "metadata": {
    "colab": {
      "name": "Udemy_07_Statements_Assessment_Test.ipynb",
      "provenance": [],
      "collapsed_sections": []
    },
    "kernelspec": {
      "name": "python3",
      "display_name": "Python 3"
    },
    "language_info": {
      "name": "python"
    }
  },
  "cells": [
    {
      "cell_type": "code",
      "metadata": {
        "id": "PT9pzm25Sioz"
      },
      "source": [
        "st = 'Print only the words that start with s in this sentence'\n",
        "st_list=st.split()\n",
        "for word in st_list:\n",
        "  if word[0]=='s':\n",
        "    print(word)"
      ],
      "execution_count": null,
      "outputs": []
    },
    {
      "cell_type": "code",
      "metadata": {
        "colab": {
          "base_uri": "https://localhost:8080/"
        },
        "id": "qyEh3kcYS3f8",
        "outputId": "77ac51fa-88a8-4af9-f764-a72a958a03a0"
      },
      "source": [
        "#Use range() to print all the even numbers from 0 to 10.\n",
        "#x=list(range(0,11,2))\n",
        "#print(x)\n",
        "mylist=[x for x in range(11) if x%2==0]\n",
        "print(mylist)"
      ],
      "execution_count": 8,
      "outputs": [
        {
          "output_type": "stream",
          "text": [
            "[0, 2, 4, 6, 8, 10]\n"
          ],
          "name": "stdout"
        }
      ]
    },
    {
      "cell_type": "code",
      "metadata": {
        "colab": {
          "base_uri": "https://localhost:8080/"
        },
        "id": "WxeqoaY5WsFf",
        "outputId": "dfe39fda-8a72-4ea9-9f11-80e4ac9aa95a"
      },
      "source": [
        "#Use a List Comprehension to create a list of all numbers between 1 and 50 that are divisible by 3.\n",
        "mylist3=[x for x in range(1,50) if x%3==0]\n",
        "print(mylist3)"
      ],
      "execution_count": 9,
      "outputs": [
        {
          "output_type": "stream",
          "text": [
            "[3, 6, 9, 12, 15, 18, 21, 24, 27, 30, 33, 36, 39, 42, 45, 48]\n"
          ],
          "name": "stdout"
        }
      ]
    },
    {
      "cell_type": "code",
      "metadata": {
        "colab": {
          "base_uri": "https://localhost:8080/"
        },
        "id": "KD0ACaluXMzC",
        "outputId": "f7f9d2f2-4e2d-4e87-b229-ae0e2c061f1d"
      },
      "source": [
        "st = 'Print every word in this sentence that has an even number of letters'\n",
        "for word in list(st.split()):\n",
        "  if (len(word))%2==0:\n",
        "    print(word)\n"
      ],
      "execution_count": 10,
      "outputs": [
        {
          "output_type": "stream",
          "text": [
            "word\n",
            "in\n",
            "this\n",
            "sentence\n",
            "that\n",
            "an\n",
            "even\n",
            "number\n",
            "of\n"
          ],
          "name": "stdout"
        }
      ]
    },
    {
      "cell_type": "code",
      "metadata": {
        "id": "5ilMHTWIYqaX"
      },
      "source": [
        "#Write a program that prints the integers from 1 to 100. But for multiples of three print \"Fizz\" instead of the number, \n",
        "#and for the multiples of five print \"Buzz\". For numbers which are multiples of both three and five print \"FizzBuzz\".\n",
        "numbers=list(range(101))\n",
        "for x in numbers:\n",
        "  if x%15==0:\n",
        "    print('FizzBuzz')\n",
        "  elif x%3==0:\n",
        "    print('Fizz')\n",
        "  elif x%5==0:\n",
        "    print('Buzz')\n",
        "  else:\n",
        "    print(x)"
      ],
      "execution_count": null,
      "outputs": []
    },
    {
      "cell_type": "code",
      "metadata": {
        "colab": {
          "base_uri": "https://localhost:8080/"
        },
        "id": "yFXpwCyqljh1",
        "outputId": "d996fea6-5999-4863-c6c0-a278e68c1edc"
      },
      "source": [
        "#Use List Comprehension to create a list of the first letters of every word in the string below:\n",
        "st = 'Create a list of the first letters of every word in this string'\n",
        "first_letters=[letter[0] for letter in list(st.split())]\n",
        "print(first_letters)"
      ],
      "execution_count": 16,
      "outputs": [
        {
          "output_type": "stream",
          "text": [
            "['C', 'a', 'l', 'o', 't', 'f', 'l', 'o', 'e', 'w', 'i', 't', 's']\n"
          ],
          "name": "stdout"
        }
      ]
    }
  ]
}