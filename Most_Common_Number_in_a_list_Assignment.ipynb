{
  "nbformat": 4,
  "nbformat_minor": 0,
  "metadata": {
    "colab": {
      "name": "Most_Common_Number_in_a_list_Assignment.ipynb",
      "provenance": [],
      "collapsed_sections": []
    },
    "kernelspec": {
      "name": "python3",
      "display_name": "Python 3"
    },
    "language_info": {
      "name": "python"
    }
  },
  "cells": [
    {
      "cell_type": "code",
      "metadata": {
        "id": "MHNgeQL2nS02"
      },
      "source": [
        "numbers = [1, 3, 7, 4, 3, 0, 3, 6, 3]\n",
        "most_common = max(set(numbers), key=numbers.count)\n",
        "repeat=numbers.count(most_common)\n",
        "print(f'The most frequent number is {most_common} and it was {repeat} times repeated.')"
      ],
      "execution_count": null,
      "outputs": []
    }
  ]
}