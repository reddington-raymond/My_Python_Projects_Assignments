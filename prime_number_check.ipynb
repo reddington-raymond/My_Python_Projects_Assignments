{
  "nbformat": 4,
  "nbformat_minor": 0,
  "metadata": {
    "colab": {
      "name": "prime_number_check.ipynb",
      "provenance": [],
      "collapsed_sections": []
    },
    "kernelspec": {
      "name": "python3",
      "display_name": "Python 3"
    },
    "language_info": {
      "name": "python"
    }
  },
  "cells": [
    {
      "cell_type": "code",
      "metadata": {
        "colab": {
          "base_uri": "https://localhost:8080/"
        },
        "id": "7OU_fXKCXcgU",
        "outputId": "dcff68af-ae9f-4f0d-f717-cd94c514b6aa"
      },
      "source": [
        "num=int(input('Enter a number to be checked in terms of prime number: '))\n",
        "i=2\n",
        "while num>2 and i<int(num/2):\n",
        "  if num%i==0 and i!=num:\n",
        "    print('not a prime number')\n",
        "    break\n",
        "  else:\n",
        "    i+=1\n",
        "else:\n",
        "  print('prime number')"
      ],
      "execution_count": 55,
      "outputs": [
        {
          "output_type": "stream",
          "text": [
            "Enter a number to be checked in terms of prime number: 233\n",
            "prime number\n"
          ],
          "name": "stdout"
        }
      ]
    }
  ]
}