{
  "nbformat": 4,
  "nbformat_minor": 0,
  "metadata": {
    "colab": {
      "name": "prime_number_check.ipynb",
      "provenance": [],
      "collapsed_sections": []
    },
    "kernelspec": {
      "name": "python3",
      "display_name": "Python 3"
    },
    "language_info": {
      "name": "python"
    }
  },
  "cells": [
    {
      "cell_type": "code",
      "metadata": {
        "colab": {
          "base_uri": "https://localhost:8080/"
        },
        "id": "7OU_fXKCXcgU",
        "outputId": "77d432ed-5855-4ca0-ae90-dbb3ea2e64b5"
      },
      "source": [
        "num=int(input('Enter a number to be checked in terms of prime number: '))\n",
        "i=2\n",
        "while num>2 and i<int(num/2):\n",
        "  if num%i==0 and i!=num:\n",
        "    print(f'{num} is not a prime number')\n",
        "    break\n",
        "  else:\n",
        "    i+=1\n",
        "else:\n",
        "  print(f'{num} is a prime number')"
      ],
      "execution_count": 57,
      "outputs": [
        {
          "output_type": "stream",
          "text": [
            "Enter a number to be checked in terms of prime number: 9\n",
            "9 is not a prime number\n"
          ],
          "name": "stdout"
        }
      ]
    }
  ]
}