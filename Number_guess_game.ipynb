{
  "nbformat": 4,
  "nbformat_minor": 0,
  "metadata": {
    "colab": {
      "name": "Number_guess_game.ipynb",
      "provenance": [],
      "collapsed_sections": []
    },
    "kernelspec": {
      "name": "python3",
      "display_name": "Python 3"
    },
    "language_info": {
      "name": "python"
    }
  },
  "cells": [
    {
      "cell_type": "code",
      "metadata": {
        "id": "49B_fGB8sDh-"
      },
      "source": [
        "guess = int(input('Guess a number between 0 and 100: 34'))\n",
        "import random\n",
        "random_num = random.randint(0, 100)\n",
        "# print(random_num, guess)\n",
        "\n",
        "while guess!=random_num:\n",
        "    if guess<random_num:\n",
        "       guess=int(input('your guess is a little bit small, guess again'))\n",
        "    else:\n",
        "       guess=int(input('your guess is a little bit higher, guess again'))\n",
        "print('Congrats your guess is right')"
      ],
      "execution_count": null,
      "outputs": []
    }
  ]
}