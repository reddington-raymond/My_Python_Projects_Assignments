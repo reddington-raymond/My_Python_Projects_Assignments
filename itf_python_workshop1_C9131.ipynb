{
  "nbformat": 4,
  "nbformat_minor": 0,
  "metadata": {
    "kernelspec": {
      "display_name": "Python 3",
      "language": "python",
      "name": "python3"
    },
    "language_info": {
      "codemirror_mode": {
        "name": "ipython",
        "version": 3
      },
      "file_extension": ".py",
      "mimetype": "text/x-python",
      "name": "python",
      "nbconvert_exporter": "python",
      "pygments_lexer": "ipython3",
      "version": "3.7.4"
    },
    "colab": {
      "name": "itf-python-workshop1-C9131.ipynb",
      "provenance": [],
      "collapsed_sections": []
    }
  },
  "cells": [
    {
      "cell_type": "markdown",
      "metadata": {
        "id": "SA1DvGIHgsH_"
      },
      "source": [
        "### Problem 1\n",
        "\n",
        "Write a program that multiplies three numbers entered by the user. Print the output with the format method."
      ]
    },
    {
      "cell_type": "code",
      "metadata": {
        "colab": {
          "base_uri": "https://localhost:8080/"
        },
        "id": "HhC8T23vie0F",
        "outputId": "09f28837-694c-4713-c473-2b3494f80646"
      },
      "source": [
        "x = input('Enter the first number: ')\n",
        "x = int(x)\n",
        "y = input('Enter the second number: ')\n",
        "y = int(y)\n",
        "z = input('Enter the third number: ')\n",
        "z = int(z)\n",
        "number_sum = x + y + z\n",
        "print('The sum of the numbers {},{},{} is: {}'.format(x, y, z, number_sum))"
      ],
      "execution_count": null,
      "outputs": [
        {
          "output_type": "stream",
          "text": [
            "Enter the first number3\n",
            "Enter the second number4\n",
            "Enter the third number5\n",
            "The sum of the numbers 3,4,5 is: 12\n"
          ],
          "name": "stdout"
        }
      ]
    },
    {
      "cell_type": "code",
      "metadata": {
        "id": "VQK3wkU6gsIB"
      },
      "source": [
        ""
      ],
      "execution_count": null,
      "outputs": []
    },
    {
      "cell_type": "markdown",
      "metadata": {
        "id": "yJ3v_QPhgsIB"
      },
      "source": [
        "### Problem 2\n",
        "\n",
        "Write a program that calculates body mass index from **height** and **weight** entered by the user. \n",
        "\n",
        "Body mass index :  Weight / Height(m) * Height(m)"
      ]
    },
    {
      "cell_type": "code",
      "metadata": {
        "colab": {
          "base_uri": "https://localhost:8080/"
        },
        "id": "IhN1G7TKgsID",
        "outputId": "9c0f03f6-08e8-493f-8d10-39fd79db5f65"
      },
      "source": [
        "height = input('Enter your height in centimeters: ')\n",
        "height = int(height)/100\n",
        "weight = input('Enter your weight in kilograms: ')\n",
        "weight = int(weight)\n",
        "body_mass_index = weight/height**2\n",
        "print('Your body index is: {}'.format(round(body_mass_index, 2)))"
      ],
      "execution_count": null,
      "outputs": [
        {
          "output_type": "stream",
          "text": [
            "Enter your height in centimeters: 160\n",
            "Enter your weight in kilograms: 51\n",
            "Your body index is: 19.92\n"
          ],
          "name": "stdout"
        }
      ]
    },
    {
      "cell_type": "markdown",
      "metadata": {
        "id": "tJdGHWzJgsIE"
      },
      "source": [
        "### Problem 3\n",
        "\n",
        "With your $ 200, how many pieces of material can you get for $ 11 each? How much money do you have left after buying?"
      ]
    },
    {
      "cell_type": "code",
      "metadata": {
        "colab": {
          "base_uri": "https://localhost:8080/"
        },
        "id": "OSJuvA0ogsIF",
        "outputId": "93ae786f-5ef2-4171-fac6-5fe6987e0e64"
      },
      "source": [
        "initial_money = 200\n",
        "each_item_price = 11\n",
        "total_item_bought= initial_money//each_item_price\n",
        "#print(total_item_bought)\n",
        "cashback = initial_money % each_item_price\n",
        "print('With your {0} $, you can buy {2} items for {1} $ each. And you get {3} $ cashback.'.format(initial_money, each_item_price, total_item_bought, cashback))"
      ],
      "execution_count": null,
      "outputs": [
        {
          "output_type": "stream",
          "text": [
            "With your 200 $ you can buy 18 items for 11 $ each. And you get 2 $ cashback\n"
          ],
          "name": "stdout"
        }
      ]
    },
    {
      "cell_type": "markdown",
      "metadata": {
        "id": "2emeRdVlgsIG"
      },
      "source": [
        "### Problem 4\n",
        "\n",
        "Ask the user for two numbers and assign these numbers to variables and replace the values of these variables with each other."
      ]
    },
    {
      "cell_type": "code",
      "metadata": {
        "colab": {
          "base_uri": "https://localhost:8080/"
        },
        "id": "5QRaaM5dgsIH",
        "outputId": "1744585d-ac9d-4c4b-a354-098e6790bd22"
      },
      "source": [
        "first_number = input('Please enter the first number:')\n",
        "first_number = int(first_number)\n",
        "second_number = input('Please enter the second number:')\n",
        "second_number = int(second_number)\n",
        "z = first_number\n",
        "first_number = second_number\n",
        "second_number = z\n",
        "print('From now on consider \"{}\" as the first number and \"{}\" as the second number.'.format(first_number, second_number))\n"
      ],
      "execution_count": null,
      "outputs": [
        {
          "output_type": "stream",
          "text": [
            "Please enter the first number:17\n",
            "Please enter the second number:200\n",
            "From now on consider \"200\" as the first number and \"17\" as the second number.\n"
          ],
          "name": "stdout"
        }
      ]
    },
    {
      "cell_type": "markdown",
      "metadata": {
        "id": "l6KzLTxcgsIH"
      },
      "source": [
        "### Problem 5\n",
        "\n",
        "Write a Python program to solve (x - y) * (x + y)."
      ]
    },
    {
      "cell_type": "code",
      "metadata": {
        "colab": {
          "base_uri": "https://localhost:8080/"
        },
        "id": "w3tz11-egsII",
        "outputId": "bfde1a51-a821-4678-deb0-596454a491d3"
      },
      "source": [
        "x = input('Inpu a value for \"X\": ')\n",
        "x = float(x)\n",
        "y = input('Inpu a value for \"Y\": ')\n",
        "y = float(y)\n",
        "calculation = (x-y)*(x+y)\n",
        "print('The Solution for \"(x - y) * (x + y)\" equation is: {}'.format(calculation))\n"
      ],
      "execution_count": null,
      "outputs": [
        {
          "output_type": "stream",
          "text": [
            "Inpu a value for \"X\": 11.2\n",
            "Inpu a value for \"Y\": 5.6\n",
            "The Solution for \"(x - y) * (x + y)\" equation is: 94.07999999999998\n"
          ],
          "name": "stdout"
        }
      ]
    },
    {
      "cell_type": "markdown",
      "metadata": {
        "id": "o4erjTtXgsIJ"
      },
      "source": [
        "### Problem 6\n",
        "\n",
        "Get **word**, **seperator** and **repetition** values from the user and print the word on the screen according to the given values. \n",
        "\n",
        "Ex: word = ali sep = / repetition = 3 ----> ali/ali/ali"
      ]
    },
    {
      "cell_type": "code",
      "metadata": {
        "colab": {
          "base_uri": "https://localhost:8080/"
        },
        "id": "yd4qhXhkgsIJ",
        "outputId": "8f8a8d46-ea39-4ebf-d821-1c6f164e58c7"
      },
      "source": [
        "word = input('Please enter any word.')\n",
        "repetition = input('How many times you want your word to be repeated?')\n",
        "repetition = int(repetition)\n",
        "seperator = input('Which seperation character you prefer?')\n",
        "print((word+seperator)*repetition + '\\b')\n"
      ],
      "execution_count": null,
      "outputs": [
        {
          "output_type": "stream",
          "text": [
            "Please enter any word.Vildan\n",
            "How many times you want your word to be repeated?7\n",
            "Which seperation character you prefer?$\n",
            "Vildan$Vildan$Vildan$Vildan$Vildan$Vildan$Vildan$\b\n"
          ],
          "name": "stdout"
        }
      ]
    },
    {
      "cell_type": "markdown",
      "metadata": {
        "id": "pSwAi15AgsIK"
      },
      "source": [
        "### Problem 7\n",
        "\n",
        "Get a sitring and an integer input from the user and get the output shown as in the example.\n",
        "\n",
        "Ex: word = Clarusway n = 3 OUTPUT = waywayway"
      ]
    },
    {
      "cell_type": "code",
      "metadata": {
        "colab": {
          "base_uri": "https://localhost:8080/"
        },
        "id": "6nbl23l8gsIK",
        "outputId": "223e7e1e-ccb3-4b59-a2b3-09658d7e461c"
      },
      "source": [
        "word = input('Please enter any word: ')\n",
        "repetition = input('Please enter a number: ')\n",
        "repetition = int(repetition)\n",
        "print(word[repetition*-1:]*repetition)"
      ],
      "execution_count": null,
      "outputs": [
        {
          "output_type": "stream",
          "text": [
            "Please enter any word: Arslanoglu\n",
            "Please enter a number: 4\n",
            "ogluogluogluoglu\n"
          ],
          "name": "stdout"
        }
      ]
    },
    {
      "cell_type": "markdown",
      "metadata": {
        "id": "n_Xhru80gsIL"
      },
      "source": [
        "### Problem 8\n",
        "\n",
        "Get a number from the user. \n",
        "\n",
        "If the number is divided by 3 print *Clarus*, if it is divided by 5 print *way*, if it is divided by both 3 and 5 print *Clarusway*. \n",
        "\n",
        "If not, print the number itself."
      ]
    },
    {
      "cell_type": "code",
      "metadata": {
        "colab": {
          "base_uri": "https://localhost:8080/"
        },
        "id": "bgiIOZnvgsIM",
        "outputId": "971cd766-8209-49e5-a2b7-f69c5c431cb0"
      },
      "source": [
        "number = int(input(\"number:\"))\n",
        "mylist = [number, \"Clarus\", \"way\", \"Clarusway\"]\n",
        "print(mylist [(1 and number % 3  == 0) + 2 * (1 and number % 5 == 0)])"
      ],
      "execution_count": null,
      "outputs": [
        {
          "output_type": "stream",
          "text": [
            "number:11\n",
            "11\n"
          ],
          "name": "stdout"
        }
      ]
    },
    {
      "cell_type": "markdown",
      "metadata": {
        "id": "cprM9sIYgsIM"
      },
      "source": [
        "### Problem 9\n",
        "letters = \"abclarusxyz\"\n",
        "- get the word **clarus** in the string\n",
        "- get the word **cba**\n",
        "- print the last eight characters in reverse order"
      ]
    },
    {
      "cell_type": "code",
      "metadata": {
        "colab": {
          "base_uri": "https://localhost:8080/"
        },
        "id": "3Va4q5LwgsIM",
        "outputId": "47303b10-7bf2-4c86-acf6-0bd819bfa5fe"
      },
      "source": [
        "letters = 'abclarusxyz'\n",
        "#print(len(letters))\n",
        "print(letters[2:8])\n",
        "print(letters[2::-1])\n",
        "print(letters[len(letters)-1:len(letters)-9:-1])"
      ],
      "execution_count": null,
      "outputs": [
        {
          "output_type": "stream",
          "text": [
            "11\n",
            "clarus\n",
            "cba\n",
            "zyxsural\n"
          ],
          "name": "stdout"
        }
      ]
    },
    {
      "cell_type": "code",
      "metadata": {
        "id": "btLW65aRgsIN"
      },
      "source": [
        ""
      ],
      "execution_count": null,
      "outputs": []
    },
    {
      "cell_type": "code",
      "metadata": {
        "id": "Q3cpmjhTgsIN"
      },
      "source": [
        ""
      ],
      "execution_count": null,
      "outputs": []
    },
    {
      "cell_type": "markdown",
      "metadata": {
        "id": "he81ANZRgsIN"
      },
      "source": [
        "### Problem 10\n",
        "\n",
        "Print **Clarusway is the best** from the elements of the rand_list list.\n",
        "\n",
        "rand_list = [1,[1, 2, \"Clarus\", [2, \"way\"]], \" is the best\"]"
      ]
    },
    {
      "cell_type": "code",
      "metadata": {
        "id": "1O7fU3qFgsIO",
        "colab": {
          "base_uri": "https://localhost:8080/"
        },
        "outputId": "c6695484-c64c-467e-891c-30b75f33d91c"
      },
      "source": [
        "rand_list = [1,[1, 2, \"Clarus\", [2, \"way\"]], \" is the best\"]\n",
        "\n",
        "print(rand_list[1][2], rand_list[1][3][1], rand_list[2], sep='')"
      ],
      "execution_count": null,
      "outputs": [
        {
          "output_type": "stream",
          "text": [
            "Clarusway is the best\n"
          ],
          "name": "stdout"
        }
      ]
    },
    {
      "cell_type": "markdown",
      "metadata": {
        "id": "k_aVOEijgsIO"
      },
      "source": [
        "### Problem 11\n",
        "\n",
        "Sort the list given below in ascending order. Find the missing number from 1 to 10.\n",
        "\n",
        "num_list = [2, 3, 1, 5, 6, 4, 9, 8, 10]"
      ]
    },
    {
      "cell_type": "code",
      "metadata": {
        "id": "HzAeThD0gsIP",
        "colab": {
          "base_uri": "https://localhost:8080/"
        },
        "outputId": "24ea6030-cff1-4d9e-c8c7-99fd21b9d62a"
      },
      "source": [
        "num_list = [2, 3, 1, 5, 6, 4, 9, 8, 10]\n",
        "num_list.sort()\n",
        "print('List in order is: ',num_list)\n",
        "toplam = sum(num_list)\n",
        "missing_number = (10*(10+1)/2)-toplam\n",
        "print('Missing number in the list is: ', int(missing_number))\n"
      ],
      "execution_count": null,
      "outputs": [
        {
          "output_type": "stream",
          "text": [
            "List in order is:  [1, 2, 3, 4, 5, 6, 8, 9, 10]\n",
            "Missing number in the list is:  7\n"
          ],
          "name": "stdout"
        }
      ]
    },
    {
      "cell_type": "markdown",
      "metadata": {
        "id": "QHFPVwvAgsIP"
      },
      "source": [
        "### Problem 12\n",
        "\n",
        "Print the oldest person's name?\n",
        "\n",
        "old ={\n",
        "  \"Emma\": 71,\n",
        "  \"Jack\": 45,\n",
        "  \"Amy\": 15,\n",
        "  \"Ben\": 29\n",
        "}"
      ]
    },
    {
      "cell_type": "code",
      "metadata": {
        "id": "ldBw3AEYgsIP",
        "colab": {
          "base_uri": "https://localhost:8080/"
        },
        "outputId": "8e5cb50c-f1fe-4e6f-8a00-ac37ec656c52"
      },
      "source": [
        "old ={ \"Emma\": 71, \"Jack\": 45, \"Amy\": 15, \"Ben\": 29 }\n",
        "print(type(old))\n",
        "print(list(old))\n",
        "age_list = [old['Emma'], old['Jack'], old['Amy'], old['Ben']]\n",
        "print(age_list)\n",
        "print(max(age_list))\n",
        "print(min(old))"
      ],
      "execution_count": null,
      "outputs": [
        {
          "output_type": "stream",
          "text": [
            "<class 'dict'>\n",
            "['Emma', 'Jack', 'Amy', 'Ben']\n",
            "[71, 45, 15, 29]\n",
            "71\n",
            "Amy\n"
          ],
          "name": "stdout"
        }
      ]
    },
    {
      "cell_type": "markdown",
      "metadata": {
        "id": "y2p7PQHkgsIQ"
      },
      "source": [
        "### Problem 13\n",
        "\n",
        "Write a Python program to sum all the items in a dictionary.\n",
        "\n",
        "my_dict = {'data1':100,'data2':-54,'data3':247}"
      ]
    },
    {
      "cell_type": "code",
      "metadata": {
        "id": "WKpTkVWHgsIQ",
        "colab": {
          "base_uri": "https://localhost:8080/"
        },
        "outputId": "540ccceb-3852-403a-dc3b-d3e972816e7a"
      },
      "source": [
        "my_dict ={'data1':100,'data2':-54,'data3':247}\n",
        "all_data = [my_dict['data1'], my_dict['data2'], my_dict['data3']]\n",
        "print('Sum of all the items in the dictionary is: ', sum(all_data))\n"
      ],
      "execution_count": null,
      "outputs": [
        {
          "output_type": "stream",
          "text": [
            "Sum of all the items in the dictionary is:  293\n"
          ],
          "name": "stdout"
        }
      ]
    },
    {
      "cell_type": "markdown",
      "metadata": {
        "id": "YMCrrjYDgsIQ"
      },
      "source": [
        "### Problem 14\n",
        "\n",
        "Write a Python program to compute average of two given lists.\n",
        "\n",
        "nums1 = [1, 1, 3, 4, 4, 5, 6, 7]\n",
        "nums2 = [0, 1, 2, 3, 4, 4, 5, 7, 8]"
      ]
    },
    {
      "cell_type": "code",
      "metadata": {
        "id": "nnrpvSvngsIR",
        "colab": {
          "base_uri": "https://localhost:8080/"
        },
        "outputId": "251ea13f-3151-4a58-f92e-3692a6940ffe"
      },
      "source": [
        "nums1 = [1, 1, 3, 4, 4, 5, 6, 7]\n",
        "nums2 = [0, 1, 2, 3, 4, 4, 5, 7, 8]\n",
        "\n",
        "avarage_nums1 = sum(nums1)/len(nums1)\n",
        "print('Avarage of nums1 list is: ', avarage_nums1)\n",
        "avarage_nums2 = sum(nums2)/len(nums2)\n",
        "print('Avarage of nums2 list is: ', avarage_nums2)"
      ],
      "execution_count": null,
      "outputs": [
        {
          "output_type": "stream",
          "text": [
            "Avarage of nums1 list is:  3.875\n",
            "Avarage of nums2 list is:  3.7777777777777777\n"
          ],
          "name": "stdout"
        }
      ]
    }
  ]
}