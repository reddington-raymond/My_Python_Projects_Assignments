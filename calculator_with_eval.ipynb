{
  "nbformat": 4,
  "nbformat_minor": 0,
  "metadata": {
    "colab": {
      "name": "calculator_with_eval.ipynb",
      "provenance": [],
      "collapsed_sections": []
    },
    "kernelspec": {
      "name": "python3",
      "display_name": "Python 3"
    },
    "language_info": {
      "name": "python"
    }
  },
  "cells": [
    {
      "cell_type": "code",
      "metadata": {
        "colab": {
          "base_uri": "https://localhost:8080/"
        },
        "id": "37cL2J7pQ65p",
        "outputId": "0ebb24c5-289a-402a-f266-bdd50a315037"
      },
      "source": [
        "def calculator(num1, num2, operator):\n",
        "  num1=int(num1)\n",
        "  num2=int(num2)\n",
        "  o=['-','+','*','/']\n",
        "  if operator==o[0]:\n",
        "    return num1-num2\n",
        "  if operator==o[1]:\n",
        "    return num1+num2 \n",
        "  if operator==o[2]:\n",
        "    return num1*num2\n",
        "  if operator==o[3]:\n",
        "    return num1/num2\n",
        "\n",
        "x=calculator(2,3,'/')\n",
        "x\n"
      ],
      "execution_count": 17,
      "outputs": [
        {
          "output_type": "execute_result",
          "data": {
            "text/plain": [
              "0.6666666666666666"
            ]
          },
          "metadata": {
            "tags": []
          },
          "execution_count": 17
        }
      ]
    },
    {
      "cell_type": "code",
      "metadata": {
        "colab": {
          "base_uri": "https://localhost:8080/"
        },
        "id": "WZtsAQ3Qhqwb",
        "outputId": "9a4111d5-1196-4ddf-f178-bf443d166a24"
      },
      "source": [
        "def calculator(num1, operator, num2):\n",
        "  if num2==0 and operator=='/':\n",
        "    return \"Can't divide by 0!\"\n",
        "  return eval(str(num1) + operator + str(num2))\n",
        "x=calculator(8, '**', 3)\n",
        "x"
      ],
      "execution_count": 27,
      "outputs": [
        {
          "output_type": "execute_result",
          "data": {
            "text/plain": [
              "512"
            ]
          },
          "metadata": {
            "tags": []
          },
          "execution_count": 27
        }
      ]
    }
  ]
}