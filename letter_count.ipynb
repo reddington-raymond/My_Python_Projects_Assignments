{
  "nbformat": 4,
  "nbformat_minor": 0,
  "metadata": {
    "colab": {
      "name": "letter_count.ipynb",
      "provenance": [],
      "collapsed_sections": []
    },
    "kernelspec": {
      "name": "python3",
      "display_name": "Python 3"
    },
    "language_info": {
      "name": "python"
    }
  },
  "cells": [
    {
      "cell_type": "code",
      "execution_count": null,
      "metadata": {
        "colab": {
          "base_uri": "https://localhost:8080/"
        },
        "id": "gaudTS5JN4u0",
        "outputId": "e88288ce-a1a2-4f7c-d110-92bce31f56db"
      },
      "outputs": [
        {
          "output_type": "stream",
          "name": "stdout",
          "text": [
            "{'c': 1, 'l': 1, 'a': 3, 'r': 1, 'u': 1, 's': 2, 'w': 2, 'y': 2, ' ': 3, 'i': 1, 't': 1, 'h': 1, 'e': 1, '!': 1}\n"
          ]
        }
      ],
      "source": [
        "def letter_count(text):\n",
        "  letters={}\n",
        "  for letter in text.lower():\n",
        "    if letter not in letters:\n",
        "      letters[letter]=text.lower().count(letter)\n",
        "  return letters\n",
        "print(letter_count('Clarusway is the way!'))\n",
        "\n",
        "\n",
        "  "
      ]
    }
  ]
}