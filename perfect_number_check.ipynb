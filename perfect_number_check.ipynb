num=int(input('Enter a number to be checked in terms of perfection: '))
perf_list=[]
for i in list(range(1, num)):
    if num%i==0:
        perf_list.append(i)
if num==sum(perf_list):
    print('This is a perfect number')
else:
    print('This is not a perfect number')

