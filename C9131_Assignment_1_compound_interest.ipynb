{
  "nbformat": 4,
  "nbformat_minor": 0,
  "metadata": {
    "colab": {
      "name": "C9131_Assignment_1_compound_interest.ipynb",
      "provenance": [],
      "collapsed_sections": []
    },
    "kernelspec": {
      "name": "python3",
      "display_name": "Python 3"
    },
    "language_info": {
      "name": "python"
    }
  },
  "cells": [
    {
      "cell_type": "code",
      "metadata": {
        "colab": {
          "base_uri": "https://localhost:8080/"
        },
        "id": "DlJtPZRdVLoo",
        "outputId": "57ea72b4-a116-4836-e1fe-90b79d9ae244"
      },
      "source": [
        "start_capital = input(\"Please enter your primary capital: \")\n",
        "start_capital = int(start_capital)\n",
        "interest_rate = input(\"Please enter daily interest rate percentage: \")\n",
        "interest_rate = 0.01*int(interest_rate)\n",
        "week_number = input(\"Please enter total number of weeks to deposit money: \")\n",
        "week_number = int(week_number)\n",
        "final_capital = start_capital*(1+interest_rate)**(7*week_number)\n",
        "print(final_capital)"
      ],
      "execution_count": null,
      "outputs": [
        {
          "output_type": "stream",
          "text": [
            "Please enter your primary capital: 1000\n",
            "Please enter daily interest rate percentage: 7\n",
            "Please enter total number of weeks to deposit money: 1\n",
            "1605.7814764784307\n"
          ],
          "name": "stdout"
        }
      ]
    }
  ]
}