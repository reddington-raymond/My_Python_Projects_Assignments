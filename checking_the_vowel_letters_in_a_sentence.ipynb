{
  "nbformat": 4,
  "nbformat_minor": 0,
  "metadata": {
    "colab": {
      "name": "checking_the_vowel_letters_in_a_sentence.ipynb",
      "provenance": [],
      "collapsed_sections": []
    },
    "kernelspec": {
      "name": "python3",
      "display_name": "Python 3"
    },
    "language_info": {
      "name": "python"
    }
  },
  "cells": [
    {
      "cell_type": "code",
      "metadata": {
        "colab": {
          "base_uri": "https://localhost:8080/"
        },
        "id": "L7QJDl4YxE3j",
        "outputId": "75105b5b-82ce-4e07-ba57-2ed095b7c7f1"
      },
      "source": [
        "sentence=input('Write a sentence to count the vowel letters in it: ')\n",
        "sentence=list(sentence.lower())\n",
        "vowel=set('aeuıoüiö')\n",
        "vowel_count={}\n",
        "for i in vowel:\n",
        "  print(f\"The letter '{i}' is repeated {sentence.count(i)} times in the sentence.\")\n",
        "  vowel_count[i]=sentence.count(i)\n",
        "print(vowel_count)"
      ],
      "execution_count": 8,
      "outputs": [
        {
          "output_type": "stream",
          "text": [
            "Write a sentence to count the vowel letters in it: ilkay arslanoğlu\n",
            "The letter 'u' is repeated 1 times in the sentence.\n",
            "The letter 'o' is repeated 1 times in the sentence.\n",
            "The letter 'ı' is repeated 0 times in the sentence.\n",
            "The letter 'a' is repeated 3 times in the sentence.\n",
            "The letter 'ü' is repeated 0 times in the sentence.\n",
            "The letter 'e' is repeated 0 times in the sentence.\n",
            "The letter 'i' is repeated 1 times in the sentence.\n",
            "The letter 'ö' is repeated 0 times in the sentence.\n",
            "{'u': 1, 'o': 1, 'ı': 0, 'a': 3, 'ü': 0, 'e': 0, 'i': 1, 'ö': 0}\n"
          ],
          "name": "stdout"
        }
      ]
    }
  ]
}