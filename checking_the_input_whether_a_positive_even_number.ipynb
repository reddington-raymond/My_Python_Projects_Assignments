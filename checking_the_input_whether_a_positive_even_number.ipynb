{
  "nbformat": 4,
  "nbformat_minor": 0,
  "metadata": {
    "colab": {
      "name": "checking_the_input_whether_a_positive_even_number.ipynb",
      "provenance": [],
      "collapsed_sections": []
    },
    "kernelspec": {
      "name": "python3",
      "display_name": "Python 3"
    },
    "language_info": {
      "name": "python"
    }
  },
  "cells": [
    {
      "cell_type": "code",
      "metadata": {
        "colab": {
          "base_uri": "https://localhost:8080/"
        },
        "id": "RaEvqJ8Tskyz",
        "outputId": "7af7889a-a4b8-4a6d-e8de-90ae8b1c0ed5"
      },
      "source": [
        "num=input('Enter a positive number to be checked')\n",
        "if num.isdigit():\n",
        "  if int(num)>0 and int(num)%2==0:\n",
        "    print('It\\'s a positive even number')\n",
        "  else:\n",
        "    print('It\\'s a positive odd number')\n",
        "else:\n",
        "  print('It\\'s an invalid entry, please do not enter non-numeric float or negative numbers')"
      ],
      "execution_count": 6,
      "outputs": [
        {
          "output_type": "stream",
          "text": [
            "Enter a positive number to be checked-3\n",
            "It's an invalid entry, please do not enter non-numeric float or negative numbers\n"
          ],
          "name": "stdout"
        }
      ]
    }
  ]
}