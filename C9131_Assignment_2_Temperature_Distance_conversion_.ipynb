{
  "nbformat": 4,
  "nbformat_minor": 0,
  "metadata": {
    "colab": {
      "name": "C9131_Assignment_2_Temperature_Distance_conversion_.ipynb",
      "provenance": [],
      "collapsed_sections": []
    },
    "kernelspec": {
      "name": "python3",
      "display_name": "Python 3"
    },
    "language_info": {
      "name": "python"
    }
  },
  "cells": [
    {
      "cell_type": "code",
      "metadata": {
        "id": "3XoXM9KBH0vs"
      },
      "source": [
        "#Write a short Python program that asks the user to enter Celsius temperature (it can be a decimal number), converts the entered temperature into Fahrenheit degree and prints the result."
      ],
      "execution_count": null,
      "outputs": []
    },
    {
      "cell_type": "code",
      "metadata": {
        "colab": {
          "base_uri": "https://localhost:8080/"
        },
        "id": "hXcnM67sICoP",
        "outputId": "0fe32c87-c277-44d9-e8ab-825226f95b2a"
      },
      "source": [
        "temperature_c = input('Please enter the temperature in Celcius(C): ')\n",
        "temperature_c = float(temperature_c)\n",
        "temperature_f = (temperature_c*9/5)+32\n",
        "print('Temperature in Fahreneit (F) is: ', temperature_f, 'F')"
      ],
      "execution_count": null,
      "outputs": [
        {
          "output_type": "stream",
          "text": [
            "Please enter the temperature in Celcius(C): 21.1\n",
            "Temperature in Fahreneit (F) is:  69.98 F\n"
          ],
          "name": "stdout"
        }
      ]
    },
    {
      "cell_type": "code",
      "metadata": {
        "id": "I7GAE2UsIDWV"
      },
      "source": [
        "#Write a short Python program that asks the user to enter a distance (it can be a decimal number) in kilometers, converts the entered distance into miles and prints the result."
      ],
      "execution_count": null,
      "outputs": []
    },
    {
      "cell_type": "code",
      "metadata": {
        "colab": {
          "base_uri": "https://localhost:8080/"
        },
        "id": "5fz8e1wrK6Tm",
        "outputId": "0b358741-4b8a-4c7e-a374-89e540b338f2"
      },
      "source": [
        "distance_km = input('Please enter the distance in kilometers(km)')\n",
        "distance_km = float(distance_km)\n",
        "distance_mile = distance_km/1.60934\n",
        "print('The distance in miles is: ', round(distance_mile,2))"
      ],
      "execution_count": null,
      "outputs": [
        {
          "output_type": "stream",
          "text": [
            "Please enter the distance in kilometers(km)3.6\n",
            "The distance in miles is:  2.24\n"
          ],
          "name": "stdout"
        }
      ]
    }
  ]
}