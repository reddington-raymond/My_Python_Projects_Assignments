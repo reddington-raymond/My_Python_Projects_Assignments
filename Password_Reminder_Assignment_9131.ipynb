{
  "nbformat": 4,
  "nbformat_minor": 0,
  "metadata": {
    "colab": {
      "name": "Password_Reminder_Assignment_9131.ipynb",
      "provenance": [],
      "collapsed_sections": []
    },
    "kernelspec": {
      "name": "python3",
      "display_name": "Python 3"
    },
    "language_info": {
      "name": "python"
    }
  },
  "cells": [
    {
      "cell_type": "code",
      "metadata": {
        "id": "_Jr5c7P6L5UN"
      },
      "source": [
        "#Task : Let's say; you left a message in the past that prints a password you need. To see the password you wrote, you need to enter your name and the program should recognize you.\n",
        "#Write a program that \n",
        "\n",
        "#Takes the first name from the user and compares it to yours,\n",
        "#Then if the name the user entered is the same as yours, print out such as : \"Hello, Joseph! The password is : W@12\",\n",
        "#If the name the user entered is not the same as yours, print out such as : \"Hello, Amina! See you later.\""
      ],
      "execution_count": null,
      "outputs": []
    },
    {
      "cell_type": "code",
      "metadata": {
        "colab": {
          "base_uri": "https://localhost:8080/"
        },
        "id": "SURbhZP6MaEc",
        "outputId": "a4465d15-be6b-4297-8271-cf5b045943cc"
      },
      "source": [
        "name = 'Raymond'\n",
        "user_entry = input('Please enter your first name: ')\n",
        "if user_entry==name:\n",
        "  print(f'Hello, {name}. Your Password is: \"g%drv77H\"')\n",
        "else:\n",
        "  print(f'Hello, {user_entry}! See you later! ')\n"
      ],
      "execution_count": 9,
      "outputs": [
        {
          "output_type": "stream",
          "text": [
            "Please enter your first name: ilkay\n",
            "Hello, ilkay! See you later! \n"
          ],
          "name": "stdout"
        }
      ]
    }
  ]
}