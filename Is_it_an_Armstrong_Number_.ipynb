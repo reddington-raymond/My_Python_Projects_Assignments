{
  "nbformat": 4,
  "nbformat_minor": 0,
  "metadata": {
    "colab": {
      "name": "Is it an Armstrong Number?.ipynb",
      "provenance": [],
      "collapsed_sections": []
    },
    "kernelspec": {
      "name": "python3",
      "display_name": "Python 3"
    },
    "language_info": {
      "name": "python"
    }
  },
  "cells": [
    {
      "cell_type": "code",
      "metadata": {
        "colab": {
          "base_uri": "https://localhost:8080/"
        },
        "id": "cJ1uwIAzCjNz",
        "outputId": "f003d6e5-b80d-4c76-dffb-8fa9e1404b02"
      },
      "source": [
        "'''\n",
        "Task:\n",
        "\n",
        "Find out if a given number is an \"Armstrong Number\".\n",
        "\n",
        "An n-digit number that is the sum of the nth powers of its digits is called an n-Armstrong number. Examples :\n",
        "371 = 33 + 73 + 13;\n",
        "9474 = 94 + 44 + 74 + 44;\n",
        "93084 = 95 + 35 + 05 + 85 + 45.\n",
        "\n",
        "Write a Python program that;\n",
        "takes a positive integer number from the user,\n",
        "checks the entered number if it is Armstrong,\n",
        "consider the negative, float and any entries other than numeric values then display a warning message to the user.\n",
        "\n",
        "'''\n",
        "number=input('Enter a number for Amstrong Number assessment: ')\n",
        "while number.isalpha() or number.count('.')!=0 or int(number)<0:\n",
        "  print(\"It is an invalid entry. Don't use non-numeric, float, or negative values!\")\n",
        "  number=input('Enter a number for Amstrong Number assessment: ')\n",
        "else:\n",
        "  total=0\n",
        "  for i in list(number):\n",
        "    total=total+(int(i)**len(list(number)))\n",
        "  if total==int(number):\n",
        "    print(f'{number} is an Amstrong Number')\n",
        "  else:\n",
        "    print(f'{number} is not an Amstrong Number')\n",
        "  "
      ],
      "execution_count": 22,
      "outputs": [
        {
          "output_type": "stream",
          "text": [
            "Enter a number for Amstrong Number assessment: 37\n",
            "37 is not an Amstrong Number\n"
          ],
          "name": "stdout"
        }
      ]
    }
  ]
}