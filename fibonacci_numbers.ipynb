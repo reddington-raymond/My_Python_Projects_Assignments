{
  "nbformat": 4,
  "nbformat_minor": 0,
  "metadata": {
    "colab": {
      "name": "fibonacci_numbers.ipynb",
      "provenance": [],
      "collapsed_sections": []
    },
    "kernelspec": {
      "name": "python3",
      "display_name": "Python 3"
    },
    "language_info": {
      "name": "python"
    }
  },
  "cells": [
    {
      "cell_type": "code",
      "metadata": {
        "colab": {
          "base_uri": "https://localhost:8080/"
        },
        "id": "fN0UPbR6dfe_",
        "outputId": "f93ec2ea-7132-46bc-daa8-8ebf17988ee5"
      },
      "source": [
        "fibonacci=[1]\n",
        "x,y=0,1\n",
        "while max(fibonacci)<55:\n",
        "  fibonacci.append(x+y)\n",
        "  x,y=y,(x+y)\n",
        "print(fibonacci)"
      ],
      "execution_count": 4,
      "outputs": [
        {
          "output_type": "stream",
          "text": [
            "[1, 1, 2, 3, 5, 8, 13, 21, 34, 55]\n"
          ],
          "name": "stdout"
        }
      ]
    }
  ]
}