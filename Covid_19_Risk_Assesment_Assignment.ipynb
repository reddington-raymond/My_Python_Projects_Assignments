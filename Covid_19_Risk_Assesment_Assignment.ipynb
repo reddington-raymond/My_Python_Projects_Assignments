{
  "nbformat": 4,
  "nbformat_minor": 0,
  "metadata": {
    "colab": {
      "name": "Covid-19 Risk_Assesment_Assignment.ipynb",
      "provenance": [],
      "collapsed_sections": []
    },
    "kernelspec": {
      "name": "python3",
      "display_name": "Python 3"
    },
    "language_info": {
      "name": "python"
    }
  },
  "cells": [
    {
      "cell_type": "code",
      "metadata": {
        "colab": {
          "base_uri": "https://localhost:8080/"
        },
        "id": "V6KtWEp6ZG1Z",
        "outputId": "240da849-337b-406b-c2f7-41f6f6160eef"
      },
      "source": [
        "age = input('Are you a cigarette addict older than 75 years old?(Yes/No): ')\n",
        "chronic = input('Do you have a severe chronic disease(Yes/No): ')\n",
        "immune = input('Is your immune system too weak?(Yes/No): ')\n",
        "if age.lower()=='yes' or chronic.lower()=='yes' or immune.lower()=='yes':\n",
        "  print('You are in risky group')\n",
        "else:\n",
        "  print('You are not in risky group')"
      ],
      "execution_count": 13,
      "outputs": [
        {
          "output_type": "stream",
          "text": [
            "Are you a cigarette addict older than 75 years old?(Yes/No): NO\n",
            "Do you have a severe chronic disease(Yes/No): NO\n",
            "Is your immune system too weak?(Yes/No): YES\n",
            "You are in risky group\n"
          ],
          "name": "stdout"
        }
      ]
    }
  ]
}