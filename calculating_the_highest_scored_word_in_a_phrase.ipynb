{
  "nbformat": 4,
  "nbformat_minor": 0,
  "metadata": {
    "colab": {
      "name": "calculating_the_highest_scored_word_in_a_phrase.ipynb",
      "provenance": [],
      "collapsed_sections": []
    },
    "kernelspec": {
      "name": "python3",
      "display_name": "Python 3"
    },
    "language_info": {
      "name": "python"
    }
  },
  "cells": [
    {
      "cell_type": "code",
      "metadata": {
        "colab": {
          "base_uri": "https://localhost:8080/"
        },
        "id": "kizrRAs_fw8t",
        "outputId": "4bdcafbe-04cd-4b31-b9eb-a88712a1e877"
      },
      "source": [
        "import string\n",
        "alphabet_string = string.ascii_lowercase\n",
        "alphabet_list = list(alphabet_string)\n",
        "alphebet_point=list(enumerate(alphabet_list,1))\n",
        "alphebet_dict={}\n",
        "for x,y in alphebet_point:\n",
        "  alphebet_dict[y]=x\n",
        "phrase=input('Enter a phrase to be evaluated: ')\n",
        "phrase_list=phrase.split()\n",
        "phrase_dict={}\n",
        "for i in phrase_list:\n",
        "  point_i=0\n",
        "  for ii in list(i):\n",
        "    point_i=point_i+alphebet_dict[ii]\n",
        "  phrase_dict[i]=point_i\n",
        "max_word=max(phrase_dict, key=phrase_dict.get)\n",
        "print(f\"'{max_word}' has the highest score\")"
      ],
      "execution_count": 26,
      "outputs": [
        {
          "output_type": "stream",
          "text": [
            "Enter a phrase to be evaluated: what time are we climbing up the volcano\n",
            "{'what': 52, 'time': 47, 'are': 24, 'we': 28, 'climbing': 69, 'up': 37, 'the': 33, 'volcano': 82}\n",
            "'volcano' has the highest score\n"
          ],
          "name": "stdout"
        }
      ]
    }
  ]
}