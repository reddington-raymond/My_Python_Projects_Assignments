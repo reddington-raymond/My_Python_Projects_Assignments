{
  "nbformat": 4,
  "nbformat_minor": 0,
  "metadata": {
    "colab": {
      "name": "sorting_a_list_without_using_sort_method.ipynb",
      "provenance": [],
      "collapsed_sections": []
    },
    "kernelspec": {
      "name": "python3",
      "display_name": "Python 3"
    },
    "language_info": {
      "name": "python"
    }
  },
  "cells": [
    {
      "cell_type": "code",
      "metadata": {
        "colab": {
          "base_uri": "https://localhost:8080/"
        },
        "id": "qgbuAbys4iJf",
        "outputId": "651ed280-3ce5-4986-a9d5-c65dea65d82c"
      },
      "source": [
        "list = [999, 333, 2, 8982, 12, 45, 77, 99, 11]\n",
        "ordered_list=[]\n",
        "for i in range(len(list)):\n",
        "  ordered_list.append(min(list))\n",
        "  list.remove(min(list))\n",
        "print(ordered_list)"
      ],
      "execution_count": 4,
      "outputs": [
        {
          "output_type": "stream",
          "text": [
            "[2, 11, 12, 45, 77, 99, 333, 999, 8982]\n",
            "[]\n"
          ],
          "name": "stdout"
        }
      ]
    }
  ]
}