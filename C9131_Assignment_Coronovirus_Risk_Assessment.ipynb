{
  "nbformat": 4,
  "nbformat_minor": 0,
  "metadata": {
    "colab": {
      "name": "C9131_Assignment_Coronovirus_Risk_Assessment.ipynb",
      "provenance": [],
      "collapsed_sections": []
    },
    "kernelspec": {
      "name": "python3",
      "display_name": "Python 3"
    },
    "language_info": {
      "name": "python"
    }
  },
  "cells": [
    {
      "cell_type": "code",
      "metadata": {
        "id": "YVaApwf5U9CF"
      },
      "source": [
        "#Task : Estimating the risk of death from coronavirus.\n",
        "\n",
        "#Consider the following questions in terms of True/False regarding anyone else.\n",
        "\n",
        "#Are you a cigarette addict older than 75 years old? Variable → age\n",
        "\n",
        "#Do you have a severe chronic disease? Variable → chronic\n",
        "\n",
        "#Is your immune system too weak? Variable → immune\n",
        "\n",
        "#Set a logical algorithm using boolean logic operators (and/or) and the given variables in order to give us True (there is a risk of death) or False (there is not a risk of death) as a result."
      ],
      "execution_count": null,
      "outputs": []
    },
    {
      "cell_type": "code",
      "metadata": {
        "id": "Fz9FbxKAVK0k",
        "colab": {
          "base_uri": "https://localhost:8080/"
        },
        "outputId": "47e2f1f3-41d7-4ecf-c88c-0e35a8bb9627"
      },
      "source": [
        "age = input('Are you a cigarette addict older than 75 years old?(True/False): ')\n",
        "chronic = input('Do you have a severe chronic disease(True/False): ')\n",
        "immune = input('Is your immune system too weak?(True/False): ')\n",
        "risk = age or chronic or immune\n",
        "print('The risk of death from corono virus: ', risk)"
      ],
      "execution_count": null,
      "outputs": [
        {
          "output_type": "stream",
          "text": [
            "Are you a cigarette addict older than 75 years old?(True/False): True\n",
            "Do you have a severe chronic disease(True/False): False\n",
            "Is your immune system too weak?(True/False): False\n",
            "The risk of death from corono virus:  True\n"
          ],
          "name": "stdout"
        }
      ]
    }
  ]
}