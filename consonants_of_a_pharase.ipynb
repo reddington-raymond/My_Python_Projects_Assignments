{
  "nbformat": 4,
  "nbformat_minor": 0,
  "metadata": {
    "colab": {
      "name": "consonants_of_a_pharase.ipynb",
      "provenance": [],
      "collapsed_sections": []
    },
    "kernelspec": {
      "name": "python3",
      "display_name": "Python 3"
    },
    "language_info": {
      "name": "python"
    }
  },
  "cells": [
    {
      "cell_type": "code",
      "metadata": {
        "colab": {
          "base_uri": "https://localhost:8080/"
        },
        "id": "eqz_k382JDCq",
        "outputId": "d50dc7ab-ef05-4120-df17-ded68ac09618"
      },
      "source": [
        "phrase=list(input('enter a phrase'))\n",
        "\n",
        "def consonant(phrase):\n",
        "  vowel=['a','e','i','o','u']\n",
        "  for i in phrase:\n",
        "    if i in vowel:\n",
        "      return False\n",
        "    else:\n",
        "      return True\n",
        "stripped_phrase= filter(consonant, phrase)\n",
        "print(list(stripped_phrase))"
      ],
      "execution_count": 6,
      "outputs": [
        {
          "output_type": "stream",
          "text": [
            "enter a phraseilkay arslanoglu\n",
            "['l', 'k', 'y', ' ', 'r', 's', 'l', 'n', 'g', 'l']\n"
          ],
          "name": "stdout"
        }
      ]
    }
  ]
}